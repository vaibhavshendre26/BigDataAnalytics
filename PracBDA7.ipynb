{
 "cells": [
  {
   "cell_type": "markdown",
   "id": "13c56cc4",
   "metadata": {},
   "source": [
    "# To perform hypothesis testing using Z-Test"
   ]
  },
  {
   "cell_type": "code",
   "execution_count": 1,
   "id": "910d5e2d",
   "metadata": {},
   "outputs": [],
   "source": [
    "# Name: Vaibhav Praful Shendre\n",
    "# Roll no.: 69\n",
    "# Sec: A"
   ]
  },
  {
   "cell_type": "code",
   "execution_count": 3,
   "id": "4b2b4cff",
   "metadata": {},
   "outputs": [
    {
     "name": "stdout",
     "output_type": "stream",
     "text": [
      "[97 69  2 43 89 19 99 52  1 90 63 61 96 52 44 30 68 90  2 40 35 61 51 48\n",
      " 89 80 68 47 34 48 59 44 98 40 59 42 97 91 34  6 58 32 88 95 58 46 64 28\n",
      " 34 17]\n"
     ]
    }
   ],
   "source": [
    "import numpy as np\n",
    "a=np.random.randint(1,100,50)\n",
    "print(a)"
   ]
  },
  {
   "cell_type": "code",
   "execution_count": 4,
   "id": "4e4dc354",
   "metadata": {},
   "outputs": [
    {
     "data": {
      "text/plain": [
       "50"
      ]
     },
     "execution_count": 4,
     "metadata": {},
     "output_type": "execute_result"
    }
   ],
   "source": [
    "len(a)"
   ]
  },
  {
   "cell_type": "code",
   "execution_count": 6,
   "id": "0a11f486",
   "metadata": {},
   "outputs": [],
   "source": [
    "import pandas as pd\n",
    "from scipy import stats\n",
    "from statsmodels.stats import weightstats as stests"
   ]
  },
  {
   "cell_type": "code",
   "execution_count": 9,
   "id": "12a8ebb3",
   "metadata": {},
   "outputs": [
    {
     "name": "stdout",
     "output_type": "stream",
     "text": [
      "[  3  52  60  71  98  77  86 100  47  35   4   1  13   8  62  79  43  21\n",
      "  50   2  29  61  70  55  56  10  45  36  91  65   2  74  21  35  80  62\n",
      "  77  74  38 100  47   6  20  68  16  97  56  58  52  90]\n"
     ]
    }
   ],
   "source": [
    "# Generate 50 random integers between 1 and 100\n",
    "random_numbers = np.random.randint(1, 101, size=50)\n",
    "\n",
    "print(random_numbers)"
   ]
  },
  {
   "cell_type": "code",
   "execution_count": 10,
   "id": "9e73b220",
   "metadata": {},
   "outputs": [],
   "source": [
    "a=[61,93,84,14,61,45,59,37,21,95,60,24,52,30,82,23,26,59,60,67,29,80,15,47,\n",
    "  61,55,47,31,65,53,55,28,26,8,42,52,46,48,51,31,51,31,81,38,51,35,33,60,53,28,72,64]"
   ]
  },
  {
   "cell_type": "code",
   "execution_count": 11,
   "id": "a3c1cdf7",
   "metadata": {},
   "outputs": [
    {
     "name": "stdout",
     "output_type": "stream",
     "text": [
      "1.684641312810732e-73\n"
     ]
    }
   ],
   "source": [
    "z_test, p_val=stests.ztest(a, x2=None, value=100)\n",
    "print(p_val)"
   ]
  },
  {
   "cell_type": "code",
   "execution_count": 12,
   "id": "590c8a8b",
   "metadata": {},
   "outputs": [
    {
     "name": "stdout",
     "output_type": "stream",
     "text": [
      "We are rejecting null Hypothesis\n"
     ]
    }
   ],
   "source": [
    "if p_val<0.05:\n",
    "    print(\"We are rejecting null Hypothesis\")\n",
    "else:\n",
    "    print(\"We are accepting null Hypothesis\")"
   ]
  },
  {
   "cell_type": "code",
   "execution_count": null,
   "id": "a999ae8f",
   "metadata": {},
   "outputs": [],
   "source": []
  }
 ],
 "metadata": {
  "kernelspec": {
   "display_name": "Python 3 (ipykernel)",
   "language": "python",
   "name": "python3"
  },
  "language_info": {
   "codemirror_mode": {
    "name": "ipython",
    "version": 3
   },
   "file_extension": ".py",
   "mimetype": "text/x-python",
   "name": "python",
   "nbconvert_exporter": "python",
   "pygments_lexer": "ipython3",
   "version": "3.11.5"
  }
 },
 "nbformat": 4,
 "nbformat_minor": 5
}
